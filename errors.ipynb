{
  "nbformat": 4,
  "nbformat_minor": 0,
  "metadata": {
    "colab": {
      "name": "errors.ipynb",
      "version": "0.3.2",
      "provenance": [],
      "collapsed_sections": []
    },
    "kernelspec": {
      "name": "python3",
      "display_name": "Python 3"
    }
  },
  "cells": [
    {
      "metadata": {
        "id": "drFmmUeATj0f",
        "colab_type": "text"
      },
      "cell_type": "markdown",
      "source": [
        "# Task 2\n",
        "\n",
        "A load cell is a sensor used to measure weight. A calibration record table is given below. Determine the maximum error (as a percentage of the full-scale output $y_{\\text{FSO}}$ ) for:\n",
        "\n",
        "1. accuracy $\\varepsilon_a = \\frac{y_{\\text{measured}} - y_{\\text{true}}}{y_{\\text{FSO}}} \\times 100\\%$\n",
        "1. hysteresis $\\varepsilon_h = \\frac{y_{\\text{decreasing}} - y_{\\text{increasing}}}{y_{\\text{FSO}}} \\times 100\\%$ \n",
        "1. linearity $\\varepsilon_l = \\frac{y_{\\text{measured}} - y_{\\text{L}}}{y_{\\text{FSO}}} \\times 100\\%$\n",
        "\n",
        "The equation of the best-fit line is $y_L(x) = a_0 + a_1x$, where $a_1=\\frac{n\\Sigma xy - \\Sigma x \\Sigma y}{n\\Sigma x^2 - ({\\Sigma x})^2}$, $a_0 = \\frac{1}{n}( \\Sigma y - a_1 \\Sigma x )$, $n$ is the number of data points. Assume that the true or expected output has a linear relationship with the input. In addition, the expected outputs are 0 mV at 0 kg load and 20 mV at 50 kg load.\n",
        "\n",
        "![alt text](https://raw.githubusercontent.com/sbme-tutorials/measurements-sheets/master/mt-model/images/q2.png)"
      ]
    },
    {
      "metadata": {
        "id": "z97jmDWsXCYq",
        "colab_type": "text"
      },
      "cell_type": "markdown",
      "source": [
        "## Solution\n",
        "\n",
        "### A) Loading data\n",
        "\n",
        "Construct 3 *Numpy* arrays to contain the data in the table.\n",
        "\n",
        "(Read documentation here [numpy.array](https://docs.scipy.org/doc/numpy-1.15.0/reference/generated/numpy.array.html#numpy.array) to see examples on constructing *Numpy* arrays.)\n"
      ]
    },
    {
      "metadata": {
        "id": "olnVKg6lXBnx",
        "colab_type": "text"
      },
      "cell_type": "markdown",
      "source": [
        ""
      ]
    },
    {
      "metadata": {
        "id": "lGQNdXq9XUr1",
        "colab_type": "code",
        "colab": {}
      },
      "cell_type": "code",
      "source": [
        "# Add line for importing the Numpy library\n",
        "\n",
        "\n",
        "# Construct an array called `increasing` to contain the second column.\n",
        "increasing = None\n",
        "\n",
        "# Construct an array called `decreasing` to contain the third column.\n",
        "decreasing = None\n",
        "\n",
        "# Construct an array called `load` to contain the first column. \n",
        "# Hint: use `np.arange` function (https://docs.scipy.org/doc/numpy-1.15.0/reference/generated/numpy.arange.html#numpy.arange)\n",
        "load = None\n",
        "\n",
        "\n"
      ],
      "execution_count": 0,
      "outputs": []
    },
    {
      "metadata": {
        "id": "FTvM5uTbZXFh",
        "colab_type": "text"
      },
      "cell_type": "markdown",
      "source": [
        "## B) Compute the $a_0$ and $a_1$ parameters\n",
        "\n",
        "You need first to compute the following parameters:\n",
        "\n",
        "1. $\\Sigma x$ use [np.sum](https://docs.scipy.org/doc/numpy-1.15.0/reference/generated/numpy.sum.html).\n",
        "1. $\\Sigma y$; use [np.sum](https://docs.scipy.org/doc/numpy-1.15.0/reference/generated/numpy.sum.html).\n",
        "1.  $\\Sigma x^2$; use [np.dot](https://docs.scipy.org/doc/numpy-1.15.0/reference/generated/numpy.dot.html).\n",
        "1. $\\Sigma y^2$; use [np.dot](https://docs.scipy.org/doc/numpy-1.15.0/reference/generated/numpy.dot.html).\n",
        "1. $\\Sigma xy$; use [np.dot](https://docs.scipy.org/doc/numpy-1.15.0/reference/generated/numpy.dot.html).\n",
        "\n",
        "Note that $x$ and $y$ are considered for both increasing and decreasing together, so we need to concatenate them in someway.\n",
        "\n",
        "Read documentation of [np.hstack](https://docs.scipy.org/doc/numpy-1.15.0/reference/generated/numpy.hstack.html) function to learn about concatenating arrays."
      ]
    },
    {
      "metadata": {
        "id": "5wl_vCw-bCyp",
        "colab_type": "code",
        "colab": {}
      },
      "cell_type": "code",
      "source": [
        "# Use np.hstack to concatenate two copies of `load` array into `x`\n",
        "x = None\n",
        "\n",
        "# Use np.hstack to concatenate `increasing` and `decreasing` into `y`\n",
        "y = None\n",
        "\n",
        "# Compute the summation of x values (in a single line)\n",
        "sX = None\n",
        "\n",
        "# Compute the summation of y values (in a single )\n",
        "sY = None\n",
        "\n",
        "# Compute the dot product of `x` and `y` (in a single line)\n",
        "sXY = None\n",
        "\n",
        "# Compute the dot produce of `x` and `x` (in a single line)\n",
        "sX2 = None\n",
        "\n",
        "# Get the count of points in a variable `n` (done)\n",
        "n = x.shape[0]\n",
        "\n",
        "# Compute `a1` parameter\n",
        "a1 = None\n",
        "\n",
        "# Compute `a0` parameter\n",
        "a0 = None\n",
        "\n",
        "# Compute the `yFitted` (done)\n",
        "yFitted = a0 + a1 * x\n",
        "\n",
        "# Compute the expected (ideal) `yTrue` (done)\n",
        "yTrue = 0.2 * x\n",
        "\n",
        "# Full scale output `yFSO`\n",
        "yFSO = 20\n",
        "\n",
        "# Compute the accuracy error (in a single line).\n",
        "# Hint: use np.abs to get the absolute differences.\n",
        "# Hint: use np.max to get the maximum difference.\n",
        "error_accuracy = None\n",
        "\n",
        "# Compute the hysteresis error (in a single line).\n",
        "# Hint: use np.abs to get the absolute differences.\n",
        "# Hint: use np.max to get the maximum difference.\n",
        "error_hysteresis = None\n",
        "\n",
        "# Compute the linearity error (in a single line).\n",
        "# Hint: use np.abs to get the absolute differences.\n",
        "# Hint: use np.max to get the maximum difference.\n",
        "error_linearity = None"
      ],
      "execution_count": 0,
      "outputs": []
    }
  ]
}