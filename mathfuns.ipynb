{
 "cells": [
  {
   "cell_type": "markdown",
   "metadata": {
    "colab_type": "text",
    "id": "qy-DzCkHLZ76"
   },
   "source": [
    "# Task 1\n",
    "## Python Functions: mean, sum, variance, standardDeviation, max, min, median\n",
    "\n",
    "In this task, you are required to implement simple mathematical functions. Afterwards, apply the implemented function on list of values that represents the scores obtained by students in a certain exam.\n"
   ]
  },
  {
   "cell_type": "markdown",
   "metadata": {
    "colab_type": "text",
    "id": "2DLr3z0QMTO6"
   },
   "source": [
    "## Summation function\n",
    "\n",
    "Given a list of values stored in `l`, return the summation of the values.\n",
    "\n",
    "$$ Sum(x) = \\Sigma x_i $$\n",
    "\n",
    "### Solution"
   ]
  },
  {
   "cell_type": "code",
   "execution_count": 1,
   "metadata": {
    "colab": {},
    "colab_type": "code",
    "id": "rFif71ZHMgJ5"
   },
   "outputs": [],
   "source": [
    "def summation(p):\n",
    "  sum = 0\n",
    "  for element in p:\n",
    "    sum += element\n",
    "  return sum \n"
   ]
  },
  {
   "cell_type": "markdown",
   "metadata": {
    "colab_type": "text",
    "id": "UlnCOlwjMxAG"
   },
   "source": [
    "## Mean function\n",
    "\n",
    "Given a list of values stored in `l`, return the mean value.\n",
    "\n",
    " $$ \\bar{x} = \\frac{\\Sigma x_i}{n} $$\n",
    "\n",
    "**Hint: use the already implemented function `summation(l)`**\n",
    "\n",
    "### Solution"
   ]
  },
  {
   "cell_type": "code",
   "execution_count": 2,
   "metadata": {
    "colab": {},
    "colab_type": "code",
    "id": "CqFRo9c0NAZf"
   },
   "outputs": [],
   "source": [
    "def mean(p):\n",
    "  sum = 0\n",
    "  for element in p:\n",
    "    sum += element\n",
    "  return sum / len( p )"
   ]
  },
  {
   "cell_type": "markdown",
   "metadata": {
    "colab_type": "text",
    "id": "4rPVX3ofNJd2"
   },
   "source": [
    "\n",
    "## Variance function\n",
    "\n",
    "Given a list of values stored in `l`, return their variance.\n",
    "\n",
    " $$\\sigma^2_x=\\frac{(x_i - \\bar{x} )^2}{n}$$\n",
    "\n",
    "**Hint: use the already implemented function `mean(l)`**"
   ]
  },
  {
   "cell_type": "code",
   "execution_count": 3,
   "metadata": {
    "colab": {},
    "colab_type": "code",
    "id": "Sp6DTBMUPBFF"
   },
   "outputs": [],
   "source": [
    "def variance(p):\n",
    "  q=0\n",
    "  for element in p:\n",
    "     D = element - mean(grades)\n",
    "     q = q + pow(D,2)  \n",
    "  return q / len(p)\n"
   ]
  },
  {
   "cell_type": "markdown",
   "metadata": {
    "colab_type": "text",
    "id": "rV5jynOrPZVt"
   },
   "source": [
    "## Standard Deviation function\n",
    "\n",
    "Given a list of values stored in `l`, return their standard deviation.\n",
    "\n",
    "$$\\sigma_x = \\sqrt{ \\frac{(x_i - \\bar{x})^2}{n}}$$\n",
    "\n",
    "**Hint: use the `variance(l)` function**"
   ]
  },
  {
   "cell_type": "code",
   "execution_count": 4,
   "metadata": {
    "colab": {},
    "colab_type": "code",
    "id": "Tt4YzH1CQP3Y"
   },
   "outputs": [],
   "source": [
    "import math\n",
    "# use math.sqrt() function to evaluate the square root.\n",
    "\n",
    "def standard_dev(p):\n",
    "    σ = math.sqrt(variance(grades))\n",
    "    return σ\n"
   ]
  },
  {
   "cell_type": "markdown",
   "metadata": {
    "colab_type": "text",
    "id": "vatCK2sQQnkj"
   },
   "source": [
    "## Median function\n",
    "\n",
    "Find the median value in the list `l`.\n",
    "\n",
    "**Hint: use [`sorted`](https://docs.python.org/3/howto/sorting.html) function**"
   ]
  },
  {
   "cell_type": "code",
   "execution_count": 5,
   "metadata": {
    "colab": {},
    "colab_type": "code",
    "id": "30I1NrPmSE1V"
   },
   "outputs": [],
   "source": [
    "def median(p):\n",
    "  p.sort()\n",
    "  n = len(p)\n",
    "  if n % 2 ==0:\n",
    "      z=n//2\n",
    "  else:\n",
    "      z=(n+1)//2 \n",
    "  return p[z-1]"
   ]
  },
  {
   "cell_type": "markdown",
   "metadata": {
    "colab_type": "text",
    "id": "VP0CNGOGSN6_"
   },
   "source": [
    "## Min and Max functions\n",
    "\n",
    "Implement functions `minimum` and `maximum` that returns the minimum and maximum of a given list, respectively.\n"
   ]
  },
  {
   "cell_type": "code",
   "execution_count": 6,
   "metadata": {
    "colab": {},
    "colab_type": "code",
    "id": "lLY4zB-YSdZx"
   },
   "outputs": [],
   "source": [
    "def minimum(p):\n",
    " sum = p[0]   \n",
    " for element in p :\n",
    "     if sum > element:\n",
    "         sum = element\n",
    "          \n",
    " return sum\n",
    "\n",
    "def maximum(p):\n",
    " sum = p[0]   \n",
    " for element in p:\n",
    "     if sum < element:\n",
    "         sum = element\n",
    "          \n",
    " return sum"
   ]
  },
  {
   "cell_type": "markdown",
   "metadata": {
    "colab_type": "text",
    "id": "sUDmjHzFSnFx"
   },
   "source": [
    "# Testing our implemeted functions\n",
    "\n",
    "## Loading grades\n",
    "\n",
    "The following lines will load the grades into a list called `grades`. Nevermind if the next lines don't seem understandable."
   ]
  },
  {
   "cell_type": "code",
   "execution_count": 7,
   "metadata": {
    "colab": {
     "base_uri": "https://localhost:8080/",
     "height": 34
    },
    "colab_type": "code",
    "id": "i9H6omkKrbZZ",
    "outputId": "693738db-d593-4fdd-f10f-3a657366dec0"
   },
   "outputs": [
    {
     "ename": "NameError",
     "evalue": "name 'np' is not defined",
     "output_type": "error",
     "traceback": [
      "\u001b[1;31m---------------------------------------------------------------------------\u001b[0m",
      "\u001b[1;31mNameError\u001b[0m                                 Traceback (most recent call last)",
      "\u001b[1;32m<ipython-input-7-9209f56baa1a>\u001b[0m in \u001b[0;36m<module>\u001b[1;34m()\u001b[0m\n\u001b[0;32m      4\u001b[0m \u001b[0mgrades\u001b[0m \u001b[1;33m=\u001b[0m \u001b[0mlist\u001b[0m\u001b[1;33m(\u001b[0m\u001b[0mdf1\u001b[0m\u001b[1;33m.\u001b[0m\u001b[0mvalues\u001b[0m\u001b[1;33m)\u001b[0m\u001b[1;33m\u001b[0m\u001b[0m\n\u001b[0;32m      5\u001b[0m \u001b[1;33m\u001b[0m\u001b[0m\n\u001b[1;32m----> 6\u001b[1;33m \u001b[0mnp\u001b[0m\u001b[1;33m.\u001b[0m\u001b[0mvar\u001b[0m\u001b[1;33m(\u001b[0m\u001b[0mgrades\u001b[0m\u001b[1;33m)\u001b[0m\u001b[1;33m\u001b[0m\u001b[0m\n\u001b[0m",
      "\u001b[1;31mNameError\u001b[0m: name 'np' is not defined"
     ]
    }
   ],
   "source": [
    "import pandas as pd\n",
    "url = 'https://raw.githubusercontent.com/sbme-tutorials/sbe2016-measurements-lab/master/mt-grades.csv'\n",
    "df1 = pd.read_csv(url)\n",
    "grades = list(df1.values)\n",
    "\n",
    "np.var(grades)\n"
   ]
  },
  {
   "cell_type": "markdown",
   "metadata": {
    "colab_type": "text",
    "id": "iLUujU4-TRNn"
   },
   "source": [
    "## Comparing the results with the function of Numpy\n",
    "\n",
    "Run the following cell to check the validity of your implemented methods."
   ]
  },
  {
   "cell_type": "code",
   "execution_count": 1,
   "metadata": {
    "colab": {
     "base_uri": "https://localhost:8080/",
     "height": 382
    },
    "colab_type": "code",
    "id": "3-1Sld59Llbc",
    "outputId": "ebce2e32-1ba8-495d-ce2c-38fff3751d68"
   },
   "outputs": [
    {
     "ename": "NameError",
     "evalue": "name 'summation' is not defined",
     "output_type": "error",
     "traceback": [
      "\u001b[1;31m---------------------------------------------------------------------------\u001b[0m",
      "\u001b[1;31mNameError\u001b[0m                                 Traceback (most recent call last)",
      "\u001b[1;32m<ipython-input-1-b7cfeafe7be9>\u001b[0m in \u001b[0;36m<module>\u001b[1;34m()\u001b[0m\n\u001b[0;32m      1\u001b[0m \u001b[1;32mimport\u001b[0m \u001b[0mnumpy\u001b[0m \u001b[1;32mas\u001b[0m \u001b[0mnp\u001b[0m\u001b[1;33m\u001b[0m\u001b[0m\n\u001b[0;32m      2\u001b[0m \u001b[1;33m\u001b[0m\u001b[0m\n\u001b[1;32m----> 3\u001b[1;33m \u001b[0mprint\u001b[0m\u001b[1;33m(\u001b[0m\u001b[1;34m\"Our summation method output:{}\"\u001b[0m\u001b[1;33m.\u001b[0m\u001b[0mformat\u001b[0m\u001b[1;33m(\u001b[0m \u001b[0msummation\u001b[0m\u001b[1;33m(\u001b[0m \u001b[0mgrades\u001b[0m \u001b[1;33m)\u001b[0m\u001b[1;33m)\u001b[0m\u001b[1;33m)\u001b[0m\u001b[1;33m\u001b[0m\u001b[0m\n\u001b[0m\u001b[0;32m      4\u001b[0m \u001b[0mprint\u001b[0m\u001b[1;33m(\u001b[0m\u001b[1;34m\"Numpy summation method output:{}\"\u001b[0m\u001b[1;33m.\u001b[0m\u001b[0mformat\u001b[0m\u001b[1;33m(\u001b[0m \u001b[0mnp\u001b[0m\u001b[1;33m.\u001b[0m\u001b[0msum\u001b[0m\u001b[1;33m(\u001b[0m \u001b[0mgrades\u001b[0m \u001b[1;33m)\u001b[0m\u001b[1;33m)\u001b[0m\u001b[1;33m)\u001b[0m\u001b[1;33m\u001b[0m\u001b[0m\n\u001b[0;32m      5\u001b[0m \u001b[0mprint\u001b[0m\u001b[1;33m(\u001b[0m\u001b[1;34m\"----\"\u001b[0m\u001b[1;33m)\u001b[0m\u001b[1;33m\u001b[0m\u001b[0m\n",
      "\u001b[1;31mNameError\u001b[0m: name 'summation' is not defined"
     ]
    }
   ],
   "source": [
    "import numpy as np\n",
    "\n",
    "print(\"Our summation method output:{}\".format( summation( grades )))\n",
    "print(\"Numpy summation method output:{}\".format( np.sum( grades )))\n",
    "print(\"----\")\n",
    "\n",
    "print(\"Our mean method output:{}\".format( mean( grades )))\n",
    "print(\"Numpy mean method output:{}\".format( np.mean( grades )))\n",
    "print(\"----\")\n",
    "\n",
    "print(\"Our variance method output:{}\".format( variance( grades )))\n",
    "print(\"Numpy variance method output:{}\".format( np.var( grades )))\n",
    "print(\"----\")\n",
    "\n",
    "print(\"Our standard deviation method output:{}\".format( standard_dev( grades )))\n",
    "print(\"Numpy standard deviation output:{}\".format( np.std( grades )))\n",
    "print(\"----\")\n",
    "\n",
    "print(\"Our median method output:{}\".format( median( grades )))\n",
    "print(\"Numpy median method output:{}\".format( np.median( grades )))\n",
    "print(\"----\")\n",
    "\n",
    "print(\"Our maximum method output:{}\".format( maximum( grades )))\n",
    "print(\"Numpy maximum method output:{}\".format( np.max( grades )))\n",
    "print(\"----\")\n",
    "\n",
    "print(\"Our minimum method output:{}\".format( minimum( grades )))\n",
    "print(\"Numpy minimum method output:{}\".format( np.min( grades )))\n",
    "print(\"----\")\n"
   ]
  },
  {
   "cell_type": "code",
   "execution_count": null,
   "metadata": {},
   "outputs": [],
   "source": []
  },
  {
   "cell_type": "code",
   "execution_count": null,
   "metadata": {},
   "outputs": [],
   "source": []
  }
 ],
 "metadata": {
  "colab": {
   "name": "mathfuns.ipynb",
   "provenance": [],
   "version": "0.3.2"
  },
  "kernelspec": {
   "display_name": "Python 3",
   "language": "python",
   "name": "python3"
  },
  "language_info": {
   "codemirror_mode": {
    "name": "ipython",
    "version": 3
   },
   "file_extension": ".py",
   "mimetype": "text/x-python",
   "name": "python",
   "nbconvert_exporter": "python",
   "pygments_lexer": "ipython3",
   "version": "3.6.5"
  }
 },
 "nbformat": 4,
 "nbformat_minor": 1
}
