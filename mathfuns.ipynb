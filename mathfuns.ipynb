{
  "nbformat": 4,
  "nbformat_minor": 0,
  "metadata": {
    "colab": {
      "name": "mathfuns.ipynb",
      "version": "0.3.2",
      "provenance": []
    },
    "kernelspec": {
      "name": "python3",
      "display_name": "Python 3"
    }
  },
  "cells": [
    {
      "metadata": {
        "id": "qy-DzCkHLZ76",
        "colab_type": "text"
      },
      "cell_type": "markdown",
      "source": [
        "# Task 1\n",
        "## Python Functions: mean, sum, variance, standardDeviation, max, min, median\n",
        "\n",
        "In this task, you are required to implement simple mathematical functions. Afterwards, apply the implemented function on list of values that represents the scores obtained by students in a certain exam.\n"
      ]
    },
    {
      "metadata": {
        "id": "2DLr3z0QMTO6",
        "colab_type": "text"
      },
      "cell_type": "markdown",
      "source": [
        "## Summation function\n",
        "\n",
        "Given a list of values stored in `l`, return the summation of the values.\n",
        "\n",
        "$$ Sum(x) = \\Sigma x_i $$\n",
        "\n",
        "### Solution"
      ]
    },
    {
      "metadata": {
        "id": "rFif71ZHMgJ5",
        "colab_type": "code",
        "colab": {}
      },
      "cell_type": "code",
      "source": [
        "def summation(l):\n",
        "  pass\n"
      ],
      "execution_count": 0,
      "outputs": []
    },
    {
      "metadata": {
        "id": "UlnCOlwjMxAG",
        "colab_type": "text"
      },
      "cell_type": "markdown",
      "source": [
        "## Mean function\n",
        "\n",
        "Given a list of values stored in `l`, return the mean value.\n",
        "\n",
        " $$ \\bar{x} = \\frac{\\Sigma x_i}{n} $$\n",
        "\n",
        "**Hint: use the already implemented function `summation(l)`**\n",
        "\n",
        "### Solution"
      ]
    },
    {
      "metadata": {
        "id": "CqFRo9c0NAZf",
        "colab_type": "code",
        "colab": {}
      },
      "cell_type": "code",
      "source": [
        "def mean(l):\n",
        "  pass"
      ],
      "execution_count": 0,
      "outputs": []
    },
    {
      "metadata": {
        "id": "4rPVX3ofNJd2",
        "colab_type": "text"
      },
      "cell_type": "markdown",
      "source": [
        "\n",
        "## Variance function\n",
        "\n",
        "Given a list of values stored in `l`, return their variance.\n",
        "\n",
        " $$\\sigma^2_x=\\frac{(x_i - \\bar{x} )^2}{n}$$\n",
        "\n",
        "**Hint: use the already implemented function `mean(l)`**"
      ]
    },
    {
      "metadata": {
        "id": "Sp6DTBMUPBFF",
        "colab_type": "code",
        "colab": {}
      },
      "cell_type": "code",
      "source": [
        "def variance(l):\n",
        "  pass"
      ],
      "execution_count": 0,
      "outputs": []
    },
    {
      "metadata": {
        "id": "rV5jynOrPZVt",
        "colab_type": "text"
      },
      "cell_type": "markdown",
      "source": [
        "## Standard Deviation function\n",
        "\n",
        "Given a list of values stored in `l`, return their standard deviation.\n",
        "\n",
        "$$\\sigma_x = \\sqrt{ \\frac{(x_i - \\bar{x})^2}{n}}$$\n",
        "\n",
        "**Hint: use the `variance(l)` function**"
      ]
    },
    {
      "metadata": {
        "id": "Tt4YzH1CQP3Y",
        "colab_type": "code",
        "colab": {}
      },
      "cell_type": "code",
      "source": [
        "import math\n",
        "# use math.sqrt() function to evaluate the square root.\n",
        "\n",
        "def standard_dev(l):\n",
        "  pass\n"
      ],
      "execution_count": 0,
      "outputs": []
    },
    {
      "metadata": {
        "id": "vatCK2sQQnkj",
        "colab_type": "text"
      },
      "cell_type": "markdown",
      "source": [
        "## Median function\n",
        "\n",
        "Find the median value in the list `l`.\n",
        "\n",
        "**Hint: use [`sorted`](https://docs.python.org/3/howto/sorting.html) function**"
      ]
    },
    {
      "metadata": {
        "id": "30I1NrPmSE1V",
        "colab_type": "code",
        "colab": {}
      },
      "cell_type": "code",
      "source": [
        "def median(l):\n",
        "  pass"
      ],
      "execution_count": 0,
      "outputs": []
    },
    {
      "metadata": {
        "id": "VP0CNGOGSN6_",
        "colab_type": "text"
      },
      "cell_type": "markdown",
      "source": [
        "## Min and Max functions\n",
        "\n",
        "Implement functions `minimum` and `maximum` that returns the minimum and maximum of a given list, respectively.\n"
      ]
    },
    {
      "metadata": {
        "id": "lLY4zB-YSdZx",
        "colab_type": "code",
        "colab": {}
      },
      "cell_type": "code",
      "source": [
        "def minimum(l):\n",
        "  pass\n",
        "\n",
        "def maximum(l):\n",
        "  pass"
      ],
      "execution_count": 0,
      "outputs": []
    },
    {
      "metadata": {
        "id": "sUDmjHzFSnFx",
        "colab_type": "text"
      },
      "cell_type": "markdown",
      "source": [
        "# Testing our implemeted functions\n",
        "\n",
        "## Loading grades\n",
        "\n",
        "The following lines will load the grades into a list called `grades`. Nevermind if the next lines don't seem understandable."
      ]
    },
    {
      "metadata": {
        "id": "i9H6omkKrbZZ",
        "colab_type": "code",
        "outputId": "693738db-d593-4fdd-f10f-3a657366dec0",
        "colab": {
          "base_uri": "https://localhost:8080/",
          "height": 34
        }
      },
      "cell_type": "code",
      "source": [
        "import pandas as pd\n",
        "url = 'https://raw.githubusercontent.com/sbme-tutorials/sbe2016-measurements-lab/master/mt-grades.csv'\n",
        "df1 = pd.read_csv(url)\n",
        "grades = list(df1.values)\n",
        "\n",
        "np.var(grades)\n"
      ],
      "execution_count": 0,
      "outputs": [
        {
          "output_type": "execute_result",
          "data": {
            "text/plain": [
              "190.91579346042167"
            ]
          },
          "metadata": {
            "tags": []
          },
          "execution_count": 31
        }
      ]
    },
    {
      "metadata": {
        "id": "iLUujU4-TRNn",
        "colab_type": "text"
      },
      "cell_type": "markdown",
      "source": [
        "## Comparing the results with the function of Numpy\n",
        "\n",
        "Run the following cell to check the validity of your implemented methods."
      ]
    },
    {
      "metadata": {
        "id": "3-1Sld59Llbc",
        "colab_type": "code",
        "outputId": "ebce2e32-1ba8-495d-ce2c-38fff3751d68",
        "colab": {
          "base_uri": "https://localhost:8080/",
          "height": 382
        }
      },
      "cell_type": "code",
      "source": [
        "import numpy as np\n",
        "\n",
        "print(\"Our summation method output:{}\".format( summation( grades )))\n",
        "print(\"Numpy summation method output:{}\".format( np.sum( grades )))\n",
        "print(\"----\")\n",
        "\n",
        "print(\"Our mean method output:{}\".format( mean( grades )))\n",
        "print(\"Numpy mean method output:{}\".format( np.mean( grades )))\n",
        "print(\"----\")\n",
        "\n",
        "print(\"Our variance method output:{}\".format( variance( grades )))\n",
        "print(\"Numpy variance method output:{}\".format( np.var( grades )))\n",
        "print(\"----\")\n",
        "\n",
        "print(\"Our standard deviation method output:{}\".format( standard_dev( grades )))\n",
        "print(\"Numpy standard deviation output:{}\".format( np.std( grades )))\n",
        "print(\"----\")\n",
        "\n",
        "print(\"Our median method output:{}\".format( median( grades )))\n",
        "print(\"Numpy median method output:{}\".format( np.median( grades )))\n",
        "print(\"----\")\n",
        "\n",
        "print(\"Our maximum method output:{}\".format( maximum( grades )))\n",
        "print(\"Numpy maximum method output:{}\".format( np.max( grades )))\n",
        "print(\"----\")\n",
        "\n",
        "print(\"Our minimum method output:{}\".format( minimum( grades )))\n",
        "print(\"Numpy minimum method output:{}\".format( np.min( grades )))\n",
        "print(\"----\")\n"
      ],
      "execution_count": 0,
      "outputs": [
        {
          "output_type": "stream",
          "text": [
            "Our summation method output:None\n",
            "Numpy summation method output:4608\n",
            "----\n",
            "Our mean method output:None\n",
            "Numpy mean method output:51.7752808988764\n",
            "----\n",
            "Our variance method output:None\n",
            "Numpy variance method output:190.91579346042167\n",
            "----\n",
            "Our standard deviation method output:None\n",
            "Numpy standard deviation output:13.817228139551785\n",
            "----\n",
            "Our median method output:None\n",
            "Numpy median method output:51.0\n",
            "----\n",
            "Our maximum method output:None\n",
            "Numpy maximum method output:86\n",
            "----\n",
            "Our minimum method output:None\n",
            "Numpy minimum method output:17\n",
            "----\n"
          ],
          "name": "stdout"
        }
      ]
    }
  ]
}