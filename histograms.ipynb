{
  "nbformat": 4,
  "nbformat_minor": 0,
  "metadata": {
    "colab": {
      "name": "histograms.ipynb",
      "version": "0.3.2",
      "provenance": []
    },
    "kernelspec": {
      "name": "python3",
      "display_name": "Python 3"
    }
  },
  "cells": [
    {
      "metadata": {
        "id": "ePC1v3rP9t77",
        "colab_type": "text"
      },
      "cell_type": "markdown",
      "source": [
        "# Task 3\n",
        "\n",
        "You are given a list of scores obtained in a certain exam, using Python:\n",
        "\n",
        "1. plot its histogram and\n",
        "1. test the normality using one-sided Chi-squared test. \n",
        "\n",
        "\n",
        "### Notes\n",
        "\n",
        "* Use [numpy.histogram](https://docs.scipy.org/doc/numpy-1.15.0/reference/generated/numpy.histogram.html) that **takes** as an input *the data* and *bins count* and **generates** the *bins edges* and *the count at each bin*.\n",
        "* Use sturges rule to estimate the number of bins:  $K = 1 +  \\log_2( N )$.\n",
        "* In order to plot the histogram, use the function [matplotlib.pyplot.hist](https://matplotlib.org/api/_as_gen/matplotlib.pyplot.hist.html).\n",
        "* Use the [scipy.stats.chisquare](https://docs.scipy.org/doc/scipy/reference/generated/scipy.stats.chisquare.html), to test the goodness of fitting for the given data to the normal distribution.\n",
        "* In order to get the expected number within a specified interval in gaussian distribution, use [scipy.stats.norm](https://docs.scipy.org/doc/scipy/reference/generated/scipy.stats.norm.html)\n",
        "\n"
      ]
    },
    {
      "metadata": {
        "id": "ms0QC3dcF7J1",
        "colab_type": "text"
      },
      "cell_type": "markdown",
      "source": [
        "## A) Load the data into Numpy array (done)"
      ]
    },
    {
      "metadata": {
        "id": "Gp4fD7PQF-QX",
        "colab_type": "code",
        "colab": {}
      },
      "cell_type": "code",
      "source": [
        "import pandas as pd\n",
        "import numpy as np\n",
        "url = 'https://raw.githubusercontent.com/sbme-tutorials/sbe2016-measurements-lab/master/mt-grades.csv'\n",
        "df1 = pd.read_csv(url)\n",
        "grades = np.array(df1.values)"
      ],
      "execution_count": 0,
      "outputs": []
    },
    {
      "metadata": {
        "id": "QKGcdmR4GjNz",
        "colab_type": "text"
      },
      "cell_type": "markdown",
      "source": [
        "## B) Plotting the histogram"
      ]
    },
    {
      "metadata": {
        "id": "odr-1D9EGuQd",
        "colab_type": "code",
        "colab": {}
      },
      "cell_type": "code",
      "source": [
        "# get the count of grades (done)\n",
        "n = grades.shape[0] # .shape[0] returns the value of the 1st dimension\n",
        "\n",
        "# estimate the number of bins\n",
        "k = None\n",
        "\n",
        "# use np.histogram to generate the bins edges and count at each bin\n",
        "edges, bins = None\n",
        "\n",
        "# plot the histogram using the previously estimated edges (done for you)\n",
        "plt.hist(grades, bins)  # arguments are passed to np.histogram\n",
        "plt.title(\"Histogram of grades\")\n",
        "plt.show()"
      ],
      "execution_count": 0,
      "outputs": []
    },
    {
      "metadata": {
        "id": "qv62NmEAIJCt",
        "colab_type": "text"
      },
      "cell_type": "markdown",
      "source": [
        "## C) Testing normality"
      ]
    },
    {
      "metadata": {
        "id": "zId3OSUNIsVJ",
        "colab_type": "code",
        "colab": {}
      },
      "cell_type": "code",
      "source": [
        ""
      ],
      "execution_count": 0,
      "outputs": []
    }
  ]
}